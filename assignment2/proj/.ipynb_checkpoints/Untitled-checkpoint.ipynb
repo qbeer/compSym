{
 "cells": [
  {
   "cell_type": "code",
   "execution_count": 1,
   "metadata": {},
   "outputs": [],
   "source": [
    "# ising modell"
   ]
  },
  {
   "cell_type": "code",
   "execution_count": 2,
   "metadata": {},
   "outputs": [
    {
     "name": "stdout",
     "output_type": "stream",
     "text": [
      "Populating the interactive namespace from numpy and matplotlib\n"
     ]
    }
   ],
   "source": [
    "%pylab inline"
   ]
  },
  {
   "cell_type": "code",
   "execution_count": 3,
   "metadata": {},
   "outputs": [
    {
     "data": {
      "text/plain": [
       "array([[-0.5, -0.5, -0.5, -0.5,  0.5],\n",
       "       [-0.5, -0.5,  0.5,  0.5, -0.5],\n",
       "       [ 0.5, -0.5, -0.5,  0.5,  0.5],\n",
       "       [ 0.5,  0.5, -0.5, -0.5, -0.5],\n",
       "       [ 0.5, -0.5, -0.5,  0.5, -0.5]])"
      ]
     },
     "execution_count": 3,
     "metadata": {},
     "output_type": "execute_result"
    }
   ],
   "source": [
    "N = 5\n",
    "prob = 0.5\n",
    "lattice = np.random.choice(a=[-1/2, 1/2], size=(N, N), p=[prob, 1-prob])\n",
    "lattice"
   ]
  },
  {
   "cell_type": "code",
   "execution_count": 4,
   "metadata": {},
   "outputs": [
    {
     "data": {
      "text/plain": [
       "(2, 0)"
      ]
     },
     "execution_count": 4,
     "metadata": {},
     "output_type": "execute_result"
    }
   ],
   "source": [
    "i, j = np.random.choice(a=range(0, N)), np.random.choice(a=range(0, N))\n",
    "i, j"
   ]
  },
  {
   "cell_type": "code",
   "execution_count": 5,
   "metadata": {},
   "outputs": [
    {
     "data": {
      "text/plain": [
       "-22.0"
      ]
     },
     "execution_count": 5,
     "metadata": {},
     "output_type": "execute_result"
    }
   ],
   "source": [
    "lattice = np.random.choice(a=[-1/2, 1/2], size=(N, N), p=[0.0001, 1-0.0001])\n",
    "\n",
    "def calc_energy(state, J=1., B=1.):\n",
    "    mu_B = 1.\n",
    "    \n",
    "    def pad_with(vector, pad_width, iaxis, kwargs):\n",
    "        pad_value = kwargs.get('padder', 10)\n",
    "        vector[:pad_width[0]] = pad_value\n",
    "        vector[-pad_width[1]:] = pad_value\n",
    "        return vector\n",
    "    \n",
    "    padded_state = np.pad(state, 1, pad_with, padder=0)\n",
    "    \n",
    "    spin_neighbor_sum = 0.\n",
    "    spin_sum = 0.\n",
    "    for row in range(1, state.shape[0]):\n",
    "        for col in range(1, state.shape[1]):\n",
    "            spin_neighbor_sum += padded_state[row, col]*padded_state[row + 1, col]\n",
    "            spin_neighbor_sum += padded_state[row, col]*padded_state[row - 1, col]\n",
    "            spin_neighbor_sum += padded_state[row, col]*padded_state[row, col + 1]\n",
    "            spin_neighbor_sum += padded_state[row, col]*padded_state[row, col - 1]\n",
    "            spin_sum += padded_state[row, col]\n",
    "            \n",
    "    return -J*spin_neighbor_sum - B*spin_sum\n",
    "    \n",
    "    \n",
    "    \n",
    "calc_energy(lattice)"
   ]
  },
  {
   "cell_type": "code",
   "execution_count": 6,
   "metadata": {},
   "outputs": [
    {
     "data": {
      "text/plain": [
       "array([[ 0.5,  0.5,  0.5,  0.5,  0.5],\n",
       "       [ 0.5,  0.5,  0.5, -0.5,  0.5],\n",
       "       [ 0.5,  0.5,  0.5,  0.5,  0.5],\n",
       "       [ 0.5,  0.5,  0.5,  0.5,  0.5],\n",
       "       [ 0.5,  0.5,  0.5,  0.5,  0.5]])"
      ]
     },
     "execution_count": 6,
     "metadata": {},
     "output_type": "execute_result"
    }
   ],
   "source": [
    "def generate_new_state(state):\n",
    "    N1, N2 = state.shape\n",
    "    row, col = np.random.choice(a=range(0, N1)), np.random.choice(a=range(0, N2))\n",
    "    \n",
    "    new_state = np.copy(state)\n",
    "    new_state[row, col] *= -1. # flip the spin of the state\n",
    "\n",
    "    \n",
    "    E_current = calc_energy(state)\n",
    "    E_new = calc_energy(new_state)\n",
    "    \n",
    "    if E_new <= E_current:\n",
    "        return new_state\n",
    "    \n",
    "    random_number = np.random.rand()\n",
    "    relative_prob = np.exp(-(E_new-E_current)/(1.*100.)) # TODO: change to param. T\n",
    "    \n",
    "    if relative_prob >= random_number:\n",
    "        return new_state\n",
    "    \n",
    "    return state\n",
    "    \n",
    "generate_new_state(lattice)"
   ]
  },
  {
   "cell_type": "code",
   "execution_count": 9,
   "metadata": {
    "scrolled": false
   },
   "outputs": [
    {
     "ename": "FileNotFoundError",
     "evalue": "[Errno 2] No such file or directory: 'images/image_0.png'",
     "output_type": "error",
     "traceback": [
      "\u001b[0;31m---------------------------------------------------------------------------\u001b[0m",
      "\u001b[0;31mFileNotFoundError\u001b[0m                         Traceback (most recent call last)",
      "\u001b[0;32m<ipython-input-9-2f96389a2342>\u001b[0m in \u001b[0;36m<module>\u001b[0;34m()\u001b[0m\n\u001b[1;32m     63\u001b[0m     \u001b[0mclip\u001b[0m\u001b[0;34m.\u001b[0m\u001b[0mwrite_gif\u001b[0m\u001b[0;34m(\u001b[0m\u001b[0;34m'{}.gif'\u001b[0m\u001b[0;34m.\u001b[0m\u001b[0mformat\u001b[0m\u001b[0;34m(\u001b[0m\u001b[0mgif_name\u001b[0m\u001b[0;34m)\u001b[0m\u001b[0;34m,\u001b[0m \u001b[0mfps\u001b[0m\u001b[0;34m=\u001b[0m\u001b[0mfps\u001b[0m\u001b[0;34m)\u001b[0m\u001b[0;34m\u001b[0m\u001b[0m\n\u001b[1;32m     64\u001b[0m \u001b[0;34m\u001b[0m\u001b[0m\n\u001b[0;32m---> 65\u001b[0;31m \u001b[0mising\u001b[0m\u001b[0;34m(\u001b[0m\u001b[0;34m)\u001b[0m\u001b[0;34m\u001b[0m\u001b[0m\n\u001b[0m",
      "\u001b[0;32m<ipython-input-9-2f96389a2342>\u001b[0m in \u001b[0;36mising\u001b[0;34m(N, prob, time)\u001b[0m\n\u001b[1;32m     53\u001b[0m \u001b[0;34m\u001b[0m\u001b[0m\n\u001b[1;32m     54\u001b[0m     \u001b[0;32mfor\u001b[0m \u001b[0mt\u001b[0m \u001b[0;32min\u001b[0m \u001b[0mrange\u001b[0m\u001b[0;34m(\u001b[0m\u001b[0;36m0\u001b[0m\u001b[0;34m,\u001b[0m \u001b[0mtime\u001b[0m\u001b[0;34m)\u001b[0m\u001b[0;34m:\u001b[0m\u001b[0;34m\u001b[0m\u001b[0m\n\u001b[0;32m---> 55\u001b[0;31m         \u001b[0mplt\u001b[0m\u001b[0;34m.\u001b[0m\u001b[0mimsave\u001b[0m\u001b[0;34m(\u001b[0m\u001b[0marr\u001b[0m\u001b[0;34m=\u001b[0m\u001b[0mlattice\u001b[0m\u001b[0;34m,\u001b[0m \u001b[0mfname\u001b[0m\u001b[0;34m=\u001b[0m\u001b[0;34m'images/image_%d.png'\u001b[0m \u001b[0;34m%\u001b[0m \u001b[0mt\u001b[0m\u001b[0;34m)\u001b[0m\u001b[0;34m\u001b[0m\u001b[0m\n\u001b[0m\u001b[1;32m     56\u001b[0m \u001b[0;34m\u001b[0m\u001b[0m\n\u001b[1;32m     57\u001b[0m     \u001b[0mgif_name\u001b[0m \u001b[0;34m=\u001b[0m \u001b[0;34m'ising'\u001b[0m\u001b[0;34m\u001b[0m\u001b[0m\n",
      "\u001b[0;32m~/anaconda3/lib/python3.6/site-packages/matplotlib/pyplot.py\u001b[0m in \u001b[0;36mimsave\u001b[0;34m(*args, **kwargs)\u001b[0m\n\u001b[1;32m   2384\u001b[0m \u001b[0;34m@\u001b[0m\u001b[0mdocstring\u001b[0m\u001b[0;34m.\u001b[0m\u001b[0mcopy_dedent\u001b[0m\u001b[0;34m(\u001b[0m\u001b[0m_imsave\u001b[0m\u001b[0;34m)\u001b[0m\u001b[0;34m\u001b[0m\u001b[0m\n\u001b[1;32m   2385\u001b[0m \u001b[0;32mdef\u001b[0m \u001b[0mimsave\u001b[0m\u001b[0;34m(\u001b[0m\u001b[0;34m*\u001b[0m\u001b[0margs\u001b[0m\u001b[0;34m,\u001b[0m \u001b[0;34m**\u001b[0m\u001b[0mkwargs\u001b[0m\u001b[0;34m)\u001b[0m\u001b[0;34m:\u001b[0m\u001b[0;34m\u001b[0m\u001b[0m\n\u001b[0;32m-> 2386\u001b[0;31m     \u001b[0;32mreturn\u001b[0m \u001b[0m_imsave\u001b[0m\u001b[0;34m(\u001b[0m\u001b[0;34m*\u001b[0m\u001b[0margs\u001b[0m\u001b[0;34m,\u001b[0m \u001b[0;34m**\u001b[0m\u001b[0mkwargs\u001b[0m\u001b[0;34m)\u001b[0m\u001b[0;34m\u001b[0m\u001b[0m\n\u001b[0m\u001b[1;32m   2387\u001b[0m \u001b[0;34m\u001b[0m\u001b[0m\n\u001b[1;32m   2388\u001b[0m \u001b[0;34m\u001b[0m\u001b[0m\n",
      "\u001b[0;32m~/anaconda3/lib/python3.6/site-packages/matplotlib/image.py\u001b[0m in \u001b[0;36mimsave\u001b[0;34m(fname, arr, vmin, vmax, cmap, format, origin, dpi)\u001b[0m\n\u001b[1;32m   1424\u001b[0m         \u001b[0mimage\u001b[0m\u001b[0;34m.\u001b[0m\u001b[0mset_data\u001b[0m\u001b[0;34m(\u001b[0m\u001b[0marr\u001b[0m\u001b[0;34m)\u001b[0m\u001b[0;34m\u001b[0m\u001b[0m\n\u001b[1;32m   1425\u001b[0m         \u001b[0mimage\u001b[0m\u001b[0;34m.\u001b[0m\u001b[0mset_clim\u001b[0m\u001b[0;34m(\u001b[0m\u001b[0mvmin\u001b[0m\u001b[0;34m,\u001b[0m \u001b[0mvmax\u001b[0m\u001b[0;34m)\u001b[0m\u001b[0;34m\u001b[0m\u001b[0m\n\u001b[0;32m-> 1426\u001b[0;31m         \u001b[0mimage\u001b[0m\u001b[0;34m.\u001b[0m\u001b[0mwrite_png\u001b[0m\u001b[0;34m(\u001b[0m\u001b[0mfname\u001b[0m\u001b[0;34m)\u001b[0m\u001b[0;34m\u001b[0m\u001b[0m\n\u001b[0m\u001b[1;32m   1427\u001b[0m     \u001b[0;32melse\u001b[0m\u001b[0;34m:\u001b[0m\u001b[0;34m\u001b[0m\u001b[0m\n\u001b[1;32m   1428\u001b[0m         \u001b[0mfig\u001b[0m \u001b[0;34m=\u001b[0m \u001b[0mFigure\u001b[0m\u001b[0;34m(\u001b[0m\u001b[0mdpi\u001b[0m\u001b[0;34m=\u001b[0m\u001b[0mdpi\u001b[0m\u001b[0;34m,\u001b[0m \u001b[0mframeon\u001b[0m\u001b[0;34m=\u001b[0m\u001b[0;32mFalse\u001b[0m\u001b[0;34m)\u001b[0m\u001b[0;34m\u001b[0m\u001b[0m\n",
      "\u001b[0;32m~/anaconda3/lib/python3.6/site-packages/matplotlib/image.py\u001b[0m in \u001b[0;36mwrite_png\u001b[0;34m(self, fname)\u001b[0m\n\u001b[1;32m    625\u001b[0m         im = self.to_rgba(self._A[::-1] if self.origin == 'lower' else self._A,\n\u001b[1;32m    626\u001b[0m                           bytes=True, norm=True)\n\u001b[0;32m--> 627\u001b[0;31m         \u001b[0m_png\u001b[0m\u001b[0;34m.\u001b[0m\u001b[0mwrite_png\u001b[0m\u001b[0;34m(\u001b[0m\u001b[0mim\u001b[0m\u001b[0;34m,\u001b[0m \u001b[0mfname\u001b[0m\u001b[0;34m)\u001b[0m\u001b[0;34m\u001b[0m\u001b[0m\n\u001b[0m\u001b[1;32m    628\u001b[0m \u001b[0;34m\u001b[0m\u001b[0m\n\u001b[1;32m    629\u001b[0m     \u001b[0;32mdef\u001b[0m \u001b[0mset_data\u001b[0m\u001b[0;34m(\u001b[0m\u001b[0mself\u001b[0m\u001b[0;34m,\u001b[0m \u001b[0mA\u001b[0m\u001b[0;34m)\u001b[0m\u001b[0;34m:\u001b[0m\u001b[0;34m\u001b[0m\u001b[0m\n",
      "\u001b[0;31mFileNotFoundError\u001b[0m: [Errno 2] No such file or directory: 'images/image_0.png'"
     ]
    }
   ],
   "source": [
    "import matplotlib.animation as anim\n",
    "import glob\n",
    "import moviepy.editor as mpy\n",
    "\n",
    "def ising(N=100, prob=.35, time=100):\n",
    "    \n",
    "    def calc_energy(state, J=1., B=1.):\n",
    "        mu_B = 1.\n",
    "    \n",
    "        def pad_with(vector, pad_width, iaxis, kwargs):\n",
    "            pad_value = kwargs.get('padder', 10)\n",
    "            vector[:pad_width[0]] = pad_value\n",
    "            vector[-pad_width[1]:] = pad_value\n",
    "            return vector\n",
    "    \n",
    "        padded_state = np.pad(state, 1, pad_with, padder=0)\n",
    "    \n",
    "        spin_neighbor_sum = 0.\n",
    "        spin_sum = 0.\n",
    "        for row in range(1, state.shape[0]):\n",
    "            for col in range(1, state.shape[1]):\n",
    "                spin_neighbor_sum += padded_state[row, col]*padded_state[row + 1, col]\n",
    "                spin_neighbor_sum += padded_state[row, col]*padded_state[row - 1, col]\n",
    "                spin_neighbor_sum += padded_state[row, col]*padded_state[row, col + 1]\n",
    "                spin_neighbor_sum += padded_state[row, col]*padded_state[row, col - 1]\n",
    "                spin_sum += padded_state[row, col]\n",
    "            \n",
    "        return -J*spin_neighbor_sum - B*spin_sum\n",
    "    \n",
    "    def generate_new_state(state):\n",
    "        N1, N2 = state.shape\n",
    "        row, col = np.random.choice(a=range(0, N1)), np.random.choice(a=range(0, N2))\n",
    "    \n",
    "        new_state = np.copy(state)\n",
    "        new_state[row, col] *= -1. # flip the spin of the state\n",
    "\n",
    "    \n",
    "        E_current = calc_energy(state)\n",
    "        E_new = calc_energy(new_state)\n",
    "    \n",
    "        if E_new <= E_current:\n",
    "            return new_state\n",
    "    \n",
    "        random_number = np.random.rand()\n",
    "        relative_prob = np.exp(-(E_new-E_current)/(1.*100.)) # TODO: change to param. T\n",
    "    \n",
    "        if relative_prob >= random_number:\n",
    "            return new_state\n",
    "    \n",
    "        return state\n",
    "    \n",
    "    lattice = np.random.choice(a=[-1/2, 1/2], size=(N, N), p=[prob, 1-prob])\n",
    "    \n",
    "    for t in range(0, time):\n",
    "        plt.imsave(arr=lattice, fname='images/image_%d.png' % t)\n",
    "\n",
    "    gif_name = 'ising'\n",
    "    fps = 2\n",
    "    file_list = glob.glob('images/*.png') # Get all the pngs in the current directory\n",
    "    print(file_list)\n",
    "    list.sort(file_list, key=lambda x: int(x.split('_')[1].split('.png')[0])) # Sort the images by #, this may need to be tweaked for your use case\n",
    "    clip = mpy.ImageSequenceClip(file_list, fps=fps)\n",
    "    clip.write_gif('{}.gif'.format(gif_name), fps=fps)\n",
    "        \n",
    "ising()"
   ]
  },
  {
   "cell_type": "code",
   "execution_count": null,
   "metadata": {},
   "outputs": [],
   "source": [
    "\"\"\"\n",
    "=================\n",
    "An animated image\n",
    "=================\n",
    "\n",
    "This example demonstrates how to animate an image.\n",
    "\"\"\"\n",
    "import numpy as np\n",
    "import matplotlib.pyplot as plt\n",
    "import matplotlib.animation as animation\n",
    "\n",
    "fig = plt.figure()\n",
    "\n",
    "\n",
    "def f(x, y):\n",
    "    return np.sin(x) + np.cos(y)\n",
    "\n",
    "x = np.linspace(0, 2 * np.pi, 120)\n",
    "y = np.linspace(0, 2 * np.pi, 100).reshape(-1, 1)\n",
    "\n",
    "im = plt.imshow(f(x, y), animated=True)\n",
    "\n",
    "\n",
    "def updatefig(*args):\n",
    "    global x, y\n",
    "    x += np.pi/ 15.\n",
    "    y += np.pi/ 20.\n",
    "    im.set_array(f(x, y))\n",
    "    return im,\n",
    "\n",
    "ani = animation.FuncAnimation(fig, updatefig, frames=10, blit=True)\n",
    "plt.show()"
   ]
  },
  {
   "cell_type": "code",
   "execution_count": null,
   "metadata": {},
   "outputs": [],
   "source": []
  }
 ],
 "metadata": {
  "kernelspec": {
   "display_name": "Python 3",
   "language": "python",
   "name": "python3"
  },
  "language_info": {
   "codemirror_mode": {
    "name": "ipython",
    "version": 3
   },
   "file_extension": ".py",
   "mimetype": "text/x-python",
   "name": "python",
   "nbconvert_exporter": "python",
   "pygments_lexer": "ipython3",
   "version": "3.6.5"
  }
 },
 "nbformat": 4,
 "nbformat_minor": 2
}
