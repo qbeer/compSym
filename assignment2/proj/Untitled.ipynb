{
 "cells": [
  {
   "cell_type": "code",
   "execution_count": 1,
   "metadata": {},
   "outputs": [],
   "source": [
    "# ising modell"
   ]
  },
  {
   "cell_type": "code",
   "execution_count": 2,
   "metadata": {},
   "outputs": [
    {
     "name": "stdout",
     "output_type": "stream",
     "text": [
      "Populating the interactive namespace from numpy and matplotlib\n"
     ]
    }
   ],
   "source": [
    "%pylab inline"
   ]
  },
  {
   "cell_type": "code",
   "execution_count": 3,
   "metadata": {},
   "outputs": [
    {
     "data": {
      "text/plain": [
       "array([[-0.5, -0.5, -0.5, -0.5,  0.5],\n",
       "       [-0.5, -0.5,  0.5,  0.5, -0.5],\n",
       "       [ 0.5, -0.5, -0.5,  0.5,  0.5],\n",
       "       [ 0.5,  0.5, -0.5, -0.5, -0.5],\n",
       "       [ 0.5, -0.5, -0.5,  0.5, -0.5]])"
      ]
     },
     "execution_count": 3,
     "metadata": {},
     "output_type": "execute_result"
    }
   ],
   "source": [
    "N = 5\n",
    "prob = 0.5\n",
    "lattice = np.random.choice(a=[-1/2, 1/2], size=(N, N), p=[prob, 1-prob])\n",
    "lattice"
   ]
  },
  {
   "cell_type": "code",
   "execution_count": 4,
   "metadata": {},
   "outputs": [
    {
     "data": {
      "text/plain": [
       "(2, 0)"
      ]
     },
     "execution_count": 4,
     "metadata": {},
     "output_type": "execute_result"
    }
   ],
   "source": [
    "i, j = np.random.choice(a=range(0, N)), np.random.choice(a=range(0, N))\n",
    "i, j"
   ]
  },
  {
   "cell_type": "code",
   "execution_count": 5,
   "metadata": {},
   "outputs": [
    {
     "data": {
      "text/plain": [
       "-22.0"
      ]
     },
     "execution_count": 5,
     "metadata": {},
     "output_type": "execute_result"
    }
   ],
   "source": [
    "lattice = np.random.choice(a=[-1/2, 1/2], size=(N, N), p=[0.0001, 1-0.0001])\n",
    "\n",
    "def calc_energy(state, J=1., B=1.):\n",
    "    mu_B = 1.\n",
    "    \n",
    "    def pad_with(vector, pad_width, iaxis, kwargs):\n",
    "        pad_value = kwargs.get('padder', 10)\n",
    "        vector[:pad_width[0]] = pad_value\n",
    "        vector[-pad_width[1]:] = pad_value\n",
    "        return vector\n",
    "    \n",
    "    padded_state = np.pad(state, 1, pad_with, padder=0)\n",
    "    \n",
    "    spin_neighbor_sum = 0.\n",
    "    spin_sum = 0.\n",
    "    for row in range(1, state.shape[0]):\n",
    "        for col in range(1, state.shape[1]):\n",
    "            spin_neighbor_sum += padded_state[row, col]*padded_state[row + 1, col]\n",
    "            spin_neighbor_sum += padded_state[row, col]*padded_state[row - 1, col]\n",
    "            spin_neighbor_sum += padded_state[row, col]*padded_state[row, col + 1]\n",
    "            spin_neighbor_sum += padded_state[row, col]*padded_state[row, col - 1]\n",
    "            spin_sum += padded_state[row, col]\n",
    "            \n",
    "    return -J*spin_neighbor_sum - B*spin_sum\n",
    "    \n",
    "    \n",
    "    \n",
    "calc_energy(lattice)"
   ]
  },
  {
   "cell_type": "code",
   "execution_count": 6,
   "metadata": {},
   "outputs": [
    {
     "data": {
      "text/plain": [
       "array([[ 0.5,  0.5,  0.5,  0.5,  0.5],\n",
       "       [ 0.5,  0.5,  0.5, -0.5,  0.5],\n",
       "       [ 0.5,  0.5,  0.5,  0.5,  0.5],\n",
       "       [ 0.5,  0.5,  0.5,  0.5,  0.5],\n",
       "       [ 0.5,  0.5,  0.5,  0.5,  0.5]])"
      ]
     },
     "execution_count": 6,
     "metadata": {},
     "output_type": "execute_result"
    }
   ],
   "source": [
    "def generate_new_state(state):\n",
    "    N1, N2 = state.shape\n",
    "    row, col = np.random.choice(a=range(0, N1)), np.random.choice(a=range(0, N2))\n",
    "    \n",
    "    new_state = np.copy(state)\n",
    "    new_state[row, col] *= -1. # flip the spin of the state\n",
    "\n",
    "    \n",
    "    E_current = calc_energy(state)\n",
    "    E_new = calc_energy(new_state)\n",
    "    \n",
    "    if E_new <= E_current:\n",
    "        return new_state\n",
    "    \n",
    "    random_number = np.random.rand()\n",
    "    relative_prob = np.exp(-(E_new-E_current)/(1.*100.)) # TODO: change to param. T\n",
    "    \n",
    "    if relative_prob >= random_number:\n",
    "        return new_state\n",
    "    \n",
    "    return state\n",
    "    \n",
    "generate_new_state(lattice)"
   ]
  },
  {
   "cell_type": "code",
   "execution_count": 23,
   "metadata": {
    "scrolled": false
   },
   "outputs": [
    {
     "name": "stdout",
     "output_type": "stream",
     "text": [
      "\n",
      "[MoviePy] Building file ising.gif with imageio\n"
     ]
    },
    {
     "name": "stderr",
     "output_type": "stream",
     "text": [
      "100%|██████████| 10002/10002 [00:26<00:00, 376.56it/s]\n"
     ]
    },
    {
     "name": "stdout",
     "output_type": "stream",
     "text": [
      "Gif is saved!\n"
     ]
    },
    {
     "data": {
      "text/plain": [
       "<Figure size 720x720 with 0 Axes>"
      ]
     },
     "metadata": {},
     "output_type": "display_data"
    }
   ],
   "source": [
    "import matplotlib.animation as anim\n",
    "import glob\n",
    "import moviepy.editor as mpy\n",
    "\n",
    "def ising(N=80, prob=.45, time=10000):\n",
    "    \n",
    "    def calc_energy(state, J=1., B=1.):\n",
    "        mu_B = 1.\n",
    "    \n",
    "        def pad_with(vector, pad_width, iaxis, kwargs):\n",
    "            pad_value = kwargs.get('padder', 10)\n",
    "            vector[:pad_width[0]] = pad_value\n",
    "            vector[-pad_width[1]:] = pad_value\n",
    "            return vector\n",
    "    \n",
    "        padded_state = np.pad(state, 1, pad_with, padder=0)\n",
    "    \n",
    "        spin_neighbor_sum = 0.\n",
    "        spin_sum = 0.\n",
    "        for row in range(1, state.shape[0]):\n",
    "            for col in range(1, state.shape[1]):\n",
    "                spin_neighbor_sum += padded_state[row, col]*padded_state[row + 1, col]\n",
    "                spin_neighbor_sum += padded_state[row, col]*padded_state[row - 1, col]\n",
    "                spin_neighbor_sum += padded_state[row, col]*padded_state[row, col + 1]\n",
    "                spin_neighbor_sum += padded_state[row, col]*padded_state[row, col - 1]\n",
    "                spin_sum += padded_state[row, col]\n",
    "            \n",
    "        return -J*spin_neighbor_sum - B*spin_sum\n",
    "    \n",
    "    def generate_new_state(state):\n",
    "        N1, N2 = state.shape\n",
    "        row, col = np.random.choice(a=range(0, N1)), np.random.choice(a=range(0, N2))\n",
    "    \n",
    "        new_state = np.copy(state)\n",
    "        new_state[row, col] *= -1. # flip the spin of the state\n",
    "\n",
    "    \n",
    "        E_current = calc_energy(state)\n",
    "        E_new = calc_energy(new_state)\n",
    "    \n",
    "        if E_new <= E_current:\n",
    "            return new_state\n",
    "    \n",
    "        random_number = np.random.rand()\n",
    "        relative_prob = np.exp(-(E_new-E_current)/(1.*3.)) # TODO: change to param. T\n",
    "    \n",
    "        if relative_prob >= random_number:\n",
    "            return new_state\n",
    "    \n",
    "        return state\n",
    "    \n",
    "    lattice = np.random.choice(a=[-1/2, 1/2], size=(N, N), p=[1, 0])\n",
    "    \n",
    "    plt.figure(figsize=(10, 10))\n",
    "    \n",
    "    for t in range(0, time):\n",
    "        plt.imsave(arr=lattice, fname='images/image_%d.png' % t)\n",
    "        lattice = generate_new_state(lattice)\n",
    "    plt.imsave(arr=lattice, fname='images/image_%d.png' % time)\n",
    "    \n",
    "    gif_name = 'ising'\n",
    "    fps = 60\n",
    "    file_list = glob.glob('images/*.png') # Get all the pngs in the current directory\n",
    "    list.sort(file_list, key=lambda x: int(x.split('_')[1].split('.png')[0])) \n",
    "    # Sort the images by #, this may need to be tweaked for your use case\n",
    "    clip = mpy.ImageSequenceClip(file_list, fps=fps)\n",
    "    clip.write_gif('{}.gif'.format(gif_name), fps=fps)\n",
    "    \n",
    "    print('Gif is saved!')\n",
    "        \n",
    "ising()"
   ]
  },
  {
   "cell_type": "code",
   "execution_count": null,
   "metadata": {},
   "outputs": [],
   "source": []
  }
 ],
 "metadata": {
  "kernelspec": {
   "display_name": "Python 3",
   "language": "python",
   "name": "python3"
  },
  "language_info": {
   "codemirror_mode": {
    "name": "ipython",
    "version": 3
   },
   "file_extension": ".py",
   "mimetype": "text/x-python",
   "name": "python",
   "nbconvert_exporter": "python",
   "pygments_lexer": "ipython3",
   "version": "3.6.5"
  }
 },
 "nbformat": 4,
 "nbformat_minor": 2
}
